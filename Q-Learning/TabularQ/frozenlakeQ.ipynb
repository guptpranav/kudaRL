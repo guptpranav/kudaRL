{
 "cells": [
  {
   "cell_type": "markdown",
   "metadata": {},
   "source": [
    "# RL for FrozenLake @ OpenAI gym"
   ]
  },
  {
   "cell_type": "markdown",
   "metadata": {},
   "source": [
    "importing requisite modules"
   ]
  },
  {
   "cell_type": "code",
   "execution_count": null,
   "metadata": {},
   "outputs": [],
   "source": [
    "import numpy as np\n",
    "import gymnasium as gym"
   ]
  },
  {
   "cell_type": "markdown",
   "metadata": {},
   "source": [
    "initialising gym environment"
   ]
  },
  {
   "cell_type": "code",
   "execution_count": null,
   "metadata": {},
   "outputs": [],
   "source": [
    "env = gym.make(\"FrozenLake-v1\", map_name=\"4x4\", is_slippery=False)\n",
    "print('Action Space:', env.action_space)\n",
    "print('Observation Space:', env.observation_space)"
   ]
  },
  {
   "cell_type": "markdown",
   "metadata": {},
   "source": [
    "### TABULAR Q-LEARNING"
   ]
  },
  {
   "cell_type": "markdown",
   "metadata": {},
   "source": [
    "initialising Q-table"
   ]
  },
  {
   "cell_type": "code",
   "execution_count": null,
   "metadata": {},
   "outputs": [],
   "source": [
    "Qtable = np.zeros((env.observation_space.n, env.action_space.n))\n",
    "Qtable.shape"
   ]
  },
  {
   "cell_type": "markdown",
   "metadata": {},
   "source": [
    "Q-Learning hyperparameters"
   ]
  },
  {
   "cell_type": "code",
   "execution_count": null,
   "metadata": {},
   "outputs": [],
   "source": [
    "EPISODES  = 20000\n",
    "rewardLog = np.zeros(EPISODES)\n",
    "\n",
    "ALPHA   = 0.1\n",
    "GAMMA   = 1\n",
    "\n",
    "EPS_MAX = 0.42\n",
    "EPS_MIN = 0.05"
   ]
  },
  {
   "cell_type": "markdown",
   "metadata": {},
   "source": [
    "training"
   ]
  },
  {
   "cell_type": "code",
   "execution_count": null,
   "metadata": {},
   "outputs": [],
   "source": [
    "for episode in range(EPISODES):\n",
    "    done = False\n",
    "    state, info = env.reset(seed = 42)\n",
    "    \n",
    "    # exploration rate decay\n",
    "    EPSILON = EPS_MAX - (EPS_MAX - EPS_MIN)*(episode/EPISODES)\n",
    "\n",
    "    while not done:\n",
    "        # epsilon-greedy agent\n",
    "        if np.random.uniform() < EPSILON:\n",
    "            action = env.action_space.sample()\n",
    "        else:\n",
    "            action = np.argmax(Qtable[state, :])\n",
    "\n",
    "        # take action\n",
    "        new_state, reward, terminated, truncated, info = env.step(action)\n",
    "        done = terminated or truncated\n",
    "\n",
    "        # Q-learning\n",
    "        maxQnext = np.max(Qtable[new_state, :])\n",
    "        Qtable[state, action] += ALPHA*(reward + GAMMA*maxQnext - Qtable[state, action])\n",
    "\n",
    "        # updates\n",
    "        state = new_state\n",
    "        rewardLog[episode] += reward\n",
    "\n",
    "env.close()"
   ]
  },
  {
   "cell_type": "markdown",
   "metadata": {},
   "source": [
    "batch mean reward over training"
   ]
  },
  {
   "cell_type": "code",
   "execution_count": null,
   "metadata": {},
   "outputs": [],
   "source": [
    "N = EPISODES // 10\n",
    "\n",
    "for k in range(EPISODES//N):\n",
    "    print(N*(k+1), np.mean(rewardLog[N*k:N*(k+1)]))"
   ]
  },
  {
   "cell_type": "markdown",
   "metadata": {},
   "source": [
    "test accuracy of final agent"
   ]
  },
  {
   "cell_type": "code",
   "execution_count": null,
   "metadata": {},
   "outputs": [],
   "source": [
    "TEST = 100\n",
    "test = gym.make(\"FrozenLake-v1\", render_mode='human')\n",
    "\n",
    "for k in range(TEST):\n",
    "    done = False\n",
    "    state, info = test.reset(seed = 69)\n",
    "    \n",
    "    while not done:\n",
    "        # greedy agent\n",
    "        action = np.argmax(Qtable[state, :])\n",
    "\n",
    "        # take action\n",
    "        state, reward, terminated, truncated, info = test.step(action)\n",
    "        done = terminated or truncated\n",
    "\n",
    "test.close()"
   ]
  }
 ],
 "metadata": {
  "kernelspec": {
   "display_name": "deepRL",
   "language": "python",
   "name": "python3"
  },
  "language_info": {
   "codemirror_mode": {
    "name": "ipython",
    "version": 3
   },
   "file_extension": ".py",
   "mimetype": "text/x-python",
   "name": "python",
   "nbconvert_exporter": "python",
   "pygments_lexer": "ipython3",
   "version": "3.12.3"
  }
 },
 "nbformat": 4,
 "nbformat_minor": 2
}
